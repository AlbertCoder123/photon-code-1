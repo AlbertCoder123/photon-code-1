{
 "cells": [
  {
   "cell_type": "code",
   "execution_count": 1,
   "metadata": {},
   "outputs": [],
   "source": [
    "import numpy as np\n",
    "from scipy import stats, optimize\n",
    "import pandas as pd\n",
    "from scipy.optimize import minimize_scalar\n",
    "%matplotlib inline\n",
    "import matplotlib.pyplot as plt"
   ]
  },
  {
   "cell_type": "code",
   "execution_count": 2,
   "metadata": {},
   "outputs": [],
   "source": [
    "def photoelectric(E):\n",
    "    K_BE = 0.5431\n",
    "    E_new = E - K_BE\n",
    "    E = E_new\n",
    "    return E\n"
   ]
  },
  {
   "cell_type": "code",
   "execution_count": 3,
   "metadata": {},
   "outputs": [],
   "source": [
    "def rayleigh(E):\n",
    "    E = E\n",
    "    return E"
   ]
  },
  {
   "cell_type": "code",
   "execution_count": 4,
   "metadata": {},
   "outputs": [],
   "source": [
    "def pair_production(E):\n",
    "    rest_E = 1.022\n",
    "    E_new = E - rest_E\n",
    "    E = E_new\n",
    "    return E"
   ]
  },
  {
   "cell_type": "code",
   "execution_count": 5,
   "metadata": {},
   "outputs": [],
   "source": [
    "\n",
    "theta_values = [] \n",
    "photon_energy_values = []\n",
    "fraction_of_energy_transferred = []\n",
    "T_values = []\n",
    "def compton(E):\n",
    "    rest_mass = 0.511\n",
    "    alpha = E/rest_mass\n",
    "    r_e = 2.8179403262*(10**(-15))\n",
    "    def comp_cross(x):\n",
    "       cross_value = (np.pi)*(r_e**2)*np.sin(x)*(1 + (np.cos(x))**2)/(1+alpha*(1-np.cos(x))**2)*(1 + (alpha**2)*(1-(np.cos(x))**2)/(1+(np.cos(x))**2)/(1+alpha*(1-np.cos(x))))\n",
    "       return cross_value\n",
    "    theta = 5\n",
    "    while theta > np.pi:\n",
    "        R_1 = np.random.uniform(0, np.pi)\n",
    "        max_x = minimize_scalar(lambda x: -comp_cross(x))\n",
    "        R_2 = np.random.uniform(0, -max_x.fun)\n",
    "        if comp_cross(R_1) > R_2:\n",
    "            theta = R_1\n",
    "            break\n",
    "        else:\n",
    "            theta = 5\n",
    "    T = E*alpha*(1-np.cos(theta))/(1+alpha*(1-np.cos(theta)))\n",
    "    theta_values.append(theta)\n",
    "    photon_energy_values.append(E)\n",
    "    fraction_of_energy_transferred.append(T/E)\n",
    "    E_new = E - T\n",
    "    E = E_new\n",
    "    return E\n",
    "    \n"
   ]
  },
  {
   "cell_type": "code",
   "execution_count": 6,
   "metadata": {},
   "outputs": [],
   "source": [
    "cross_sections = { \n",
    "    0.0010: [1.37, 0.0132, 4080, 0],\n",
    "    0.0015: [1.27, 0.0267, 1370, 0],\n",
    "    0.0020: [1.15, 0.0418, 616, 0],\n",
    "    0.003: [0.909, 0.0707, 192, 0],\n",
    "    0.004: [0.708, 0.0943, 82.0, 0],\n",
    "    0.005: [0.558, 0.112, 41.9, 0],\n",
    "    0.006: [0.449, 0.126, 24.1, 0],\n",
    "    0.008: [0.31, 0.144, 9.92, 0],\n",
    "    0.01: [0.231, 0.155, 4.94, 0],\n",
    "    0.015: [0.133, 0.17, 1.37, 0],\n",
    "    0.02: [0.0886, 0.177, 0.544, 0],\n",
    "    0.03: [0.0469, 0.183, 0.146, 0],\n",
    "    0.04: [0.0287, 0.183, 0.0568, 0],\n",
    "    0.05: [0.0194, 0.18, 0.0272, 0],\n",
    "    0.06: [0.0139, 0.177, 0.0149, 0],\n",
    "    0.08: [0.00816, 0.17, 0.00577, 0],\n",
    "    0.1: [0.00535, 0.163, 0.00276, 0],\n",
    "    0.15: [0.00244, 0.147, 0.000731, 0],\n",
    "    0.2: [0.00139, 0.135, 0.000289, 0],\n",
    "    0.3: [0.000622, 0.118, 0.0000816, 0],\n",
    "    0.4: [0.000351, 0.106, 0.0000349, 0],\n",
    "    0.5: [0.000225, 0.0966, 0.0000188, 0],\n",
    "    0.6: [0.000156, 0.0894, 0.0000117, 0],\n",
    "    0.8: [0.0000879, 0.0786, 0.00000592, 0],\n",
    "    1: [0.0000563, 0.0707, 0.00000368, 0],\n",
    "    1.25: [0.000036, 0.0632, 0.00000233, 0.0000178],\n",
    "    1.5: [0.000025, 0.0574, 0.00000169, 0.0000982],\n",
    "    2: [0.0000141, 0.049, 0.00000106, 0.000391],\n",
    "    3: [0.00000626, 0.0385, 0.000000594, 0.00113],\n",
    "    4: [0.00000352, 0.0322, 0.000000408, 0.00187],\n",
    "    5 :[0.00000225, 0.0278, 0.000000309, 0.00254],\n",
    "    6: [0.00000156, 0.0245, 0.000000248, 0.00316]\n",
    "}"
   ]
  },
  {
   "cell_type": "code",
   "execution_count": 36,
   "metadata": {},
   "outputs": [],
   "source": [
    "E_initial = 6\n",
    "E_threshold = 0.01\n",
    "num_interactions = 0\n",
    "\n",
    "energies = []\n",
    "interaction_type = []\n",
    "\n",
    "photon_energy = E_initial \n",
    "\n",
    "while photon_energy >= E_threshold:\n",
    "    lower_energies = [i for i in cross_sections.keys() if i <= photon_energy]\n",
    "    closest_low_energy = max(lower_energies)\n",
    "\n",
    "    upper_energies = [ i for i in cross_sections.keys() if i >= photon_energy]\n",
    "    closest_high_energy = min(upper_energies)\n",
    "    \n",
    "    cross_section_values_low = cross_sections[closest_low_energy]\n",
    "    cross_section_values_high = cross_sections[closest_high_energy]\n",
    "\n",
    "    if closest_high_energy - closest_low_energy != 0:\n",
    "        slope = []\n",
    "        new_cross_section = []\n",
    "        for i in range(len(cross_section_values_high)):\n",
    "            slope.append((cross_section_values_high[i] - cross_section_values_low[i]) / (closest_high_energy - closest_low_energy))\n",
    "            new_cross_section.append(cross_section_values_low[i] + slope[i] * (photon_energy - closest_low_energy))\n",
    "    \n",
    "        interaction = np.random.choice(['rayleigh', 'compton', 'photoelectric', 'pair+trip'], p = new_cross_section/np.sum(new_cross_section))\n",
    "    else:\n",
    "        interaction = np.random.choice(['rayleigh', 'compton', 'photoelectric', 'pair+trip'], p = cross_section_values_low/np.sum(cross_section_values_low))\n",
    "    interaction_type.append(interaction)\n",
    "    energies.append(photon_energy)\n",
    "\n",
    "    if interaction == 'rayleigh':\n",
    "        photon_energy = rayleigh(photon_energy)\n",
    "    elif interaction == 'compton':\n",
    "        photon_energy = compton(photon_energy)\n",
    "    elif interaction == 'photoelectric':\n",
    "        photon_energy = photoelectric(photon_energy)\n",
    "    else:\n",
    "        photon_energy = pair_production(photon_energy)\n",
    "        break\n",
    "    num_interactions += 1\n",
    "\n"
   ]
  },
  {
   "cell_type": "code",
   "execution_count": 32,
   "metadata": {},
   "outputs": [],
   "source": [
    "\n",
    "\n"
   ]
  },
  {
   "cell_type": "code",
   "execution_count": 37,
   "metadata": {},
   "outputs": [],
   "source": [
    "def Photon_Spectrum(n):\n",
    "    if (n>0) and (n<=2480):\n",
    "        return 0.25 # Photon Energy in MeV\n",
    "    elif (n>2480) and (n<=15000): \n",
    "        return 0.5 # Photon Energy in MeV \n",
    "    elif (n>15000) and (n<=27290): \n",
    "        return 0.75 # Photon Energy in MeV \n",
    "    elif (n>27290) and (n<=37590): \n",
    "        return 1 # Photon Energy in MeV \n",
    "    elif (n>37590) and (n<=46310): \n",
    "        return 1.25 # Photon Energy in MeV \n",
    "    elif (n>46310) and (n<=53760): \n",
    "        return 1.5 # Photon Energy in MeV \n",
    "    elif (n>53760) and (n<=60140): \n",
    "        return 1.75 # Photon Energy in MeV \n",
    "    elif (n>60140) and (n<=65680): \n",
    "        return 2 # Photon Energy in MeV \n",
    "    elif (n>65680) and (n<=70460): \n",
    "        return 2.25 # Photon Energy in MeV \n",
    "    elif (n>70460) and (n<=74630): \n",
    "        return 2.5 # Photon Energy in MeV \n",
    "    elif (n>74630) and (n<=78290): \n",
    "        return 2.75 # Photon Energy in MeV \n",
    "    elif (n>78290) and (n<=81510): \n",
    "        return 3 # Photon Energy in MeV \n",
    "    elif (n>81510) and (n<=84330): \n",
    "        return 3.25 # Photon Energy in MeV \n",
    "    elif (n>84330) and (n<=86860): \n",
    "        return 3.5 # Photon Energy in MeV \n",
    "    elif (n>86860) and (n<=89090): \n",
    "        return 3.75 # Photon Energy in MeV \n",
    "    elif (n>89090) and (n<=91060): \n",
    "        return 4 # Photon Energy in MeV \n",
    "    elif (n>91060) and (n<=92790): \n",
    "        return 4.25 # Photon Energy in MeV \n",
    "    elif (n>92790) and (n<=94330): \n",
    "        return 4.5 # Photon Energy in MeV \n",
    "    elif (n>94330) and (n<=95670): \n",
    "        return 4.75 # Photon Energy in MeV \n",
    "    elif (n>95670) and (n<=96840): \n",
    "        return 5 # Photon Energy in MeV \n",
    "    elif (n>96840) and (n<=97850): \n",
    "        return 5.25 # Photon Energy in MeV \n",
    "    elif (n>97850) and (n<=98710): \n",
    "        return 5.5 # Photon Energy in MeV \n",
    "    elif (n>98710) and (n<=99420): \n",
    "        return 5.75 # Photon Energy in MeV \n",
    "    elif (n>99420) and (n<=100000): \n",
    "        return 6 # Photon Energy in MeV end\n",
    "    "
   ]
  },
  {
   "cell_type": "code",
   "execution_count": 45,
   "metadata": {},
   "outputs": [
    {
     "name": "stdout",
     "output_type": "stream",
     "text": [
      "<class 'float'>\n",
      "<class 'float'>\n"
     ]
    }
   ],
   "source": [
    "print(type(E_threshold))\n",
    "photon_energy = Photon_Spectrum(2)\n",
    "print(type(photon_energy))"
   ]
  },
  {
   "cell_type": "code",
   "execution_count": 48,
   "metadata": {},
   "outputs": [
    {
     "ename": "TypeError",
     "evalue": "'>=' not supported between instances of 'NoneType' and 'float'",
     "output_type": "error",
     "traceback": [
      "\u001b[1;31m---------------------------------------------------------------------------\u001b[0m",
      "\u001b[1;31mTypeError\u001b[0m                                 Traceback (most recent call last)",
      "\u001b[1;32mc:\\Users\\jacks\\OneDrive\\Desktop\\course\\PHYS 539\\assignments\\monte carlo photon.ipynb Cell 11\u001b[0m in \u001b[0;36m<cell line: 3>\u001b[1;34m()\u001b[0m\n\u001b[0;32m      <a href='vscode-notebook-cell:/c%3A/Users/jacks/OneDrive/Desktop/course/PHYS%20539/assignments/monte%20carlo%20photon.ipynb#X13sZmlsZQ%3D%3D?line=3'>4</a>\u001b[0m photon_energy \u001b[39m=\u001b[39m Photon_Spectrum(i) \n\u001b[0;32m      <a href='vscode-notebook-cell:/c%3A/Users/jacks/OneDrive/Desktop/course/PHYS%20539/assignments/monte%20carlo%20photon.ipynb#X13sZmlsZQ%3D%3D?line=4'>5</a>\u001b[0m E_threshold \u001b[39m=\u001b[39m \u001b[39m0.01\u001b[39m\n\u001b[1;32m----> <a href='vscode-notebook-cell:/c%3A/Users/jacks/OneDrive/Desktop/course/PHYS%20539/assignments/monte%20carlo%20photon.ipynb#X13sZmlsZQ%3D%3D?line=6'>7</a>\u001b[0m \u001b[39mwhile\u001b[39;00m photon_energy \u001b[39m>\u001b[39;49m\u001b[39m=\u001b[39;49m E_threshold:\n\u001b[0;32m      <a href='vscode-notebook-cell:/c%3A/Users/jacks/OneDrive/Desktop/course/PHYS%20539/assignments/monte%20carlo%20photon.ipynb#X13sZmlsZQ%3D%3D?line=7'>8</a>\u001b[0m     lower_energies \u001b[39m=\u001b[39m [x \u001b[39mfor\u001b[39;00m x \u001b[39min\u001b[39;00m cross_sections\u001b[39m.\u001b[39mkeys() \u001b[39mif\u001b[39;00m x \u001b[39m<\u001b[39m\u001b[39m=\u001b[39m photon_energy]\n\u001b[0;32m      <a href='vscode-notebook-cell:/c%3A/Users/jacks/OneDrive/Desktop/course/PHYS%20539/assignments/monte%20carlo%20photon.ipynb#X13sZmlsZQ%3D%3D?line=8'>9</a>\u001b[0m     closest_low_energy \u001b[39m=\u001b[39m \u001b[39mmax\u001b[39m(lower_energies)\n",
      "\u001b[1;31mTypeError\u001b[0m: '>=' not supported between instances of 'NoneType' and 'float'"
     ]
    }
   ],
   "source": [
    "N = 10\n",
    "\n",
    "for i in range(N):\n",
    "    photon_energy = Photon_Spectrum(i) \n",
    "    E_threshold = 0.01\n",
    "\n",
    "    while photon_energy >= E_threshold:\n",
    "        lower_energies = [x for x in cross_sections.keys() if x <= photon_energy]\n",
    "        closest_low_energy = max(lower_energies)\n",
    "\n",
    "        upper_energies = [ x for x in cross_sections.keys() if x >= photon_energy]\n",
    "        closest_high_energy = min(upper_energies)\n",
    "    \n",
    "        cross_section_values_low = cross_sections[closest_low_energy]\n",
    "        cross_section_values_high = cross_sections[closest_high_energy]\n",
    "\n",
    "        if closest_high_energy - closest_low_energy != 0:\n",
    "            slope = []\n",
    "            new_cross_section = []\n",
    "            for i in range(len(cross_section_values_high)):\n",
    "                slope.append((cross_section_values_high[i] - cross_section_values_low[i]) / (closest_high_energy - closest_low_energy))\n",
    "                new_cross_section.append(cross_section_values_low[i] + slope[i] * (photon_energy - closest_low_energy))\n",
    "    \n",
    "            interaction = np.random.choice(['rayleigh', 'compton', 'photoelectric', 'pair+trip'], p = new_cross_section/np.sum(new_cross_section))\n",
    "        else:\n",
    "            interaction = np.random.choice(['rayleigh', 'compton', 'photoelectric', 'pair+trip'], p = cross_section_values_low/np.sum(cross_section_values_low))\n",
    "        #interaction_type.append(interaction)\n",
    "        #energies.append(photon_energy)\n",
    "\n",
    "        if interaction == 'rayleigh':\n",
    "            photon_energy = rayleigh(photon_energy)\n",
    "        elif interaction == 'compton':\n",
    "            photon_energy = compton(photon_energy)\n",
    "        elif interaction == 'photoelectric':\n",
    "            photon_energy = photoelectric(photon_energy)\n",
    "        else:\n",
    "            photon_energy = pair_production(photon_energy)\n",
    "            break\n",
    "        #num_interactions += 1\n"
   ]
  },
  {
   "cell_type": "code",
   "execution_count": null,
   "metadata": {},
   "outputs": [],
   "source": []
  }
 ],
 "metadata": {
  "kernelspec": {
   "display_name": "GNPResearch",
   "language": "python",
   "name": "python3"
  },
  "language_info": {
   "codemirror_mode": {
    "name": "ipython",
    "version": 3
   },
   "file_extension": ".py",
   "mimetype": "text/x-python",
   "name": "python",
   "nbconvert_exporter": "python",
   "pygments_lexer": "ipython3",
   "version": "3.9.7"
  },
  "orig_nbformat": 4,
  "vscode": {
   "interpreter": {
    "hash": "75f5f87cd7c4543b32ab2c42fb062302e4f413f503e2f426e6dc8ffa0dda7674"
   }
  }
 },
 "nbformat": 4,
 "nbformat_minor": 2
}
